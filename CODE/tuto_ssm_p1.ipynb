{
 "cells": [
  {
   "cell_type": "markdown",
   "metadata": {},
   "source": [
    "## Particle-Based Surface Shape Modeling\n",
    "## PART 1 - Open Images and create Meshes\n",
    "\n",
    "```\n",
    "conda activate shapeworks\n",
    "```\n",
    "\n"
   ]
  },
  {
   "cell_type": "code",
   "execution_count": 12,
   "metadata": {},
   "outputs": [],
   "source": [
    "import shapeworks as sw"
   ]
  },
  {
   "cell_type": "code",
   "execution_count": 13,
   "metadata": {},
   "outputs": [],
   "source": [
    "# IMPORTS\n",
    "\n",
    "import matplotlib.pyplot as plt\n",
    "import numpy as np\n",
    "import os\n",
    "import glob\n",
    "from pathlib import Path\n",
    "from scipy.ndimage import zoom\n",
    "from scipy.spatial import cKDTree\n",
    "import pyvista as pv\n",
    "import vtk"
   ]
  },
  {
   "cell_type": "markdown",
   "metadata": {},
   "source": [
    "### 1. Load shape images"
   ]
  },
  {
   "cell_type": "code",
   "execution_count": 14,
   "metadata": {},
   "outputs": [
    {
     "name": "stdout",
     "output_type": "stream",
     "text": [
      "Number of shapes: 2\n",
      "DATA\\F006_label_4_RF.nii.gz\n",
      "DATA\\F099_label_4_RF.nii.gz\n"
     ]
    }
   ],
   "source": [
    "# PATHS\n",
    "\n",
    "data_path=\"./DATA/\"\n",
    "shapeExtention = '.nii.gz'\n",
    "shapeFilenames = sorted(glob.glob(data_path + '*' + shapeExtention)) \n",
    "\n",
    "print ('Number of shapes: ' + str(len(shapeFilenames)))\n",
    "for shapeFilename in shapeFilenames:\n",
    "    shapeFilename = Path(shapeFilename)\n",
    "    print(shapeFilename)\n"
   ]
  },
  {
   "cell_type": "code",
   "execution_count": 15,
   "metadata": {},
   "outputs": [
    {
     "name": "stdout",
     "output_type": "stream",
     "text": [
      "Loading: ./DATA\\F006_label_4_RF.nii.gz\n",
      "Loading: ./DATA\\F099_label_4_RF.nii.gz\n",
      "\n",
      "2 segmentations are loaded for the dataset...\n"
     ]
    }
   ],
   "source": [
    "# LOAD AND DOWNSAMPLE SEGMENTATIONS\n",
    "\n",
    "def downsample_volume(volume, factor):\n",
    "    data = volume.toArray()\n",
    "    zoom_factors = (1 / factor, 1 / factor, 1 / factor)\n",
    "    downsampled_data = zoom(data, zoom_factors, order=1)  # Using linear interpolation\n",
    "    return sw.Image(downsampled_data.astype(np.float32))\n",
    "\n",
    "# Adjust the downsample factor based on your hardware capabilities\n",
    "downsample_factor = 2\n",
    "\n",
    "# List of shape segmentations\n",
    "small_shapes = []\n",
    "\n",
    "# List of shape names (shape files prefixes) to be used for saving outputs and visualizations\n",
    "small_shapeNames = [] \n",
    "\n",
    "# Loop over all shape files and load individual segmentations\n",
    "for shapeFilename in shapeFilenames:\n",
    "    print('Loading: ' + str(shapeFilename))\n",
    "    \n",
    "    # Convert to Path object to access .name attribute\n",
    "    shapeFilename = Path(shapeFilename)\n",
    "    \n",
    "    # Current shape name\n",
    "    segFilename = shapeFilename.name\n",
    "    shapeName = segFilename[:-len(shapeExtention)]\n",
    "    small_shapeNames.append(shapeName)\n",
    "    \n",
    "    # Load segmentation\n",
    "    shapeSeg = sw.Image(str(shapeFilename))\n",
    "    \n",
    "    # Downsample the volume if needed\n",
    "    downsampled_shapeSeg = downsample_volume(shapeSeg, downsample_factor)\n",
    "    \n",
    "    # Append to the shape list\n",
    "    small_shapes.append(downsampled_shapeSeg)\n",
    "\n",
    "num_samples = len(small_shapes)\n",
    "print('\\n' + str(num_samples) + ' segmentations are loaded for the dataset...')\n"
   ]
  },
  {
   "cell_type": "markdown",
   "metadata": {},
   "source": [
    "### 2. Visualize Images"
   ]
  },
  {
   "cell_type": "code",
   "execution_count": 16,
   "metadata": {},
   "outputs": [
    {
     "name": "stdout",
     "output_type": "stream",
     "text": [
      "\n"
     ]
    }
   ],
   "source": [
    "#VISUALIZATION PARAMETERS\n",
    "\n",
    "use_same_window = False # plot using multiple rendering windows if false\n",
    "notebook        = False # True will enable the plots to lie inline\n",
    "show_borders    = True  # show borders for each rendering window\n",
    "shade_volumes   = True  # use shading when performing volume rendering\n",
    "color_map       = \"viridis\" # color map for volume rendering, e.g., 'bone', 'coolwarm', 'cool', 'viridis', 'magma'\n",
    "show_axes       = True  # show a vtk axes widget for each rendering window\n",
    "show_bounds     = True  # show volume bounding box\n",
    "show_all_edges  = True  # add an unlabeled and unticked box at the boundaries of plot. \n",
    "font_size       = 10    # text font size for windows\n",
    "link_views      = True  # link all rendering windows so that they share same camera and axes boundaries\n",
    "\n",
    "\n",
    "# EXAMPLE USAGE\n",
    "\n",
    "\"\"\" \n",
    "sw.plot_volumes(small_shapes,    \n",
    "             volumeNames     = small_shapeNames, \n",
    "             use_same_window = use_same_window,\n",
    "             notebook        = notebook,\n",
    "             show_borders    = show_borders,  \n",
    "             shade_volumes   = shade_volumes, \n",
    "             color_map       = color_map,\n",
    "             show_axes       = show_axes,  \n",
    "             show_bounds     = show_bounds,\n",
    "             show_all_edges  = show_all_edges, \n",
    "             font_size       = font_size,   \n",
    "             link_views      = link_views\n",
    "             ) \n",
    "\"\"\"\n",
    "\n",
    "print()"
   ]
  },
  {
   "cell_type": "markdown",
   "metadata": {},
   "source": [
    "### 3. Convert images"
   ]
  },
  {
   "cell_type": "code",
   "execution_count": 21,
   "metadata": {},
   "outputs": [
    {
     "name": "stdout",
     "output_type": "stream",
     "text": [
      "Shape 0 voxel values count: 2\n",
      "Shape 0 voxel values after binarization: [0. 1.]\n",
      "Shape 1 voxel values count: 2\n",
      "Shape 1 voxel values after binarization: [0. 1.]\n"
     ]
    }
   ],
   "source": [
    "# Threshold and binarize the segmentation images\n",
    "for idx in range(len(small_shapes)):\n",
    "    shapeSeg = small_shapes[idx]\n",
    "    # Convert to numpy array to inspect voxel values\n",
    "    shapeSeg_array = shapeSeg.toArray()\n",
    "    # Get unique voxel values\n",
    "    voxelValues = np.unique(shapeSeg_array)\n",
    "    print(f\"Shape {idx} voxel values count: {len(voxelValues)}\")\n",
    "    \n",
    "    # Determine threshold values\n",
    "    minVal = voxelValues.min()\n",
    "    maxVal = voxelValues.max()\n",
    "    threshold = (minVal + maxVal) / 2.0  # Midpoint threshold\n",
    "\n",
    "    # Binarize the image: set voxels >= threshold to 1.0, else 0.0\n",
    "    shapeSeg.binarize(minVal=threshold, maxVal=maxVal, innerVal=1.0, outerVal=0.0)\n",
    "    \n",
    "    # Verify binarization\n",
    "    binarized_voxelValues = np.unique(shapeSeg.toArray())\n",
    "    print(f\"Shape {idx} voxel values after binarization: {binarized_voxelValues}\")\n",
    "    \n",
    "    # Update the image in the list\n",
    "    small_shapes[idx] = shapeSeg\n"
   ]
  },
  {
   "cell_type": "code",
   "execution_count": 18,
   "metadata": {},
   "outputs": [
    {
     "name": "stdout",
     "output_type": "stream",
     "text": [
      "shapeworks image header information: \n",
      "{\n",
      "\tdims: [233, 226, 759],\n",
      "\torigin: [0, 0, 0],\n",
      "\tsize: [233, 226, 759],\n",
      "\tspacing: [1, 1, 1]\n",
      "}\n",
      "\n",
      "vtk image header information: \n",
      "ImageData (0x27ee9ba7d00)\n",
      "  N Cells:      39567600\n",
      "  N Points:     39967422\n",
      "  X Bounds:     0.000e+00, 2.320e+02\n",
      "  Y Bounds:     0.000e+00, 2.250e+02\n",
      "  Z Bounds:     0.000e+00, 7.580e+02\n",
      "  Dimensions:   233, 226, 759\n",
      "  Spacing:      1.000e+00, 1.000e+00, 1.000e+00\n",
      "  N Arrays:     1\n",
      "shapeworks image header information: \n",
      "{\n",
      "\tdims: [230, 223, 772],\n",
      "\torigin: [0, 0, 0],\n",
      "\tsize: [230, 223, 772],\n",
      "\tspacing: [1, 1, 1]\n",
      "}\n",
      "\n",
      "vtk image header information: \n",
      "ImageData (0x27eebdd1e80)\n",
      "  N Cells:      39196098\n",
      "  N Points:     39595880\n",
      "  X Bounds:     0.000e+00, 2.290e+02\n",
      "  Y Bounds:     0.000e+00, 2.220e+02\n",
      "  Z Bounds:     0.000e+00, 7.710e+02\n",
      "  Dimensions:   230, 223, 772\n",
      "  Spacing:      1.000e+00, 1.000e+00, 1.000e+00\n",
      "  N Arrays:     1\n"
     ]
    }
   ],
   "source": [
    "# CONVERT TO VTK IMAGE\n",
    "shapeSeg1 = small_shapes[0]\n",
    "shapeSeg2 = small_shapes[1]\n",
    "shapeSeg1_vtk = sw.sw2vtkImage(shapeSeg1, verbose = True)\n",
    "shapeSeg2_vtk = sw.sw2vtkImage(shapeSeg2, verbose = True)\n",
    "# sw.plot_volumes(shapeSeg1_vtk)\n",
    "# sw.plot_volumes(shapeSeg2_vtk)"
   ]
  },
  {
   "cell_type": "code",
   "execution_count": 19,
   "metadata": {},
   "outputs": [
    {
     "name": "stdout",
     "output_type": "stream",
     "text": [
      "\n",
      "Creating mesh: OUTPUT/mesh1.vtk\n",
      "Voxel values:[0. 1.]\n",
      "Shape is a binary segmentation\n",
      "isoValue = 0.5\n",
      "Saved VTK mesh to: OUTPUT/mesh1.vtk\n",
      "\n",
      "Creating mesh: OUTPUT/mesh2.vtk\n",
      "Voxel values:[0. 1.]\n",
      "Shape is a binary segmentation\n",
      "isoValue = 0.5\n",
      "Saved VTK mesh to: OUTPUT/mesh2.vtk\n"
     ]
    }
   ],
   "source": [
    "# CONVERT TO MESH\n",
    "\n",
    "def convert_plot_save(shapeSeg, output_filename):\n",
    "    print(f'\\nCreating mesh: {output_filename}')\n",
    "    # Convert shapeSeg to numpy array\n",
    "    shapeSeg_array = shapeSeg.toArray()\n",
    "    # Get unique voxel values\n",
    "    voxelValues = np.unique(shapeSeg_array)\n",
    "    # Suppress scientific notation\n",
    "    np.set_printoptions(suppress=True)\n",
    "    print('Voxel values:' + str(voxelValues))\n",
    "    # Display warning\n",
    "    if len(voxelValues) > 2:\n",
    "        print('WARNING: Voxels have more than two distinct values')\n",
    "        print('PLEASE make sure to use binary segmentations')\n",
    "    else:\n",
    "        print('Shape is a binary segmentation')\n",
    "    # Get min and max values\n",
    "    minVal = shapeSeg_array.min()\n",
    "    maxVal = shapeSeg_array.max()\n",
    "    # Compute isovalue\n",
    "    isoValue = (maxVal - minVal) / 2.0\n",
    "    print('isoValue = ' + str(isoValue))\n",
    "    # Extract isosurface\n",
    "    shapeMesh = shapeSeg.toMesh(isovalue=isoValue)\n",
    "    # Convert to VTK format\n",
    "    shapeMesh_vtk = sw.sw2vtkMesh(shapeMesh)\n",
    "    # Plot\n",
    "    sw.plot_meshes([shapeMesh_vtk])\n",
    "    # Convert VTK mesh to PyVista object\n",
    "    pv_mesh = pv.wrap(shapeMesh_vtk)\n",
    "    # Save the VTK mesh\n",
    "    pv_mesh.save(output_filename)\n",
    "    print(f'Saved VTK mesh to: {output_filename}')\n",
    "    \n",
    "def exportMesh(vtk_mesh, output_filename):\n",
    "    pv_mesh = pv.wrap(vtk_mesh)\n",
    "    pv_mesh.save(output_filename)\n",
    "    print(f'Saved VTK mesh to: {output_filename}')\n",
    "    \n",
    "def seg2mesh(shapeSeg):\n",
    "    print(f'\\nCreating mesh...')\n",
    "    # Convert shapeSeg to numpy array\n",
    "    shapeSeg_array = shapeSeg.toArray()\n",
    "    # Get unique voxel values\n",
    "    voxelValues = np.unique(shapeSeg_array)\n",
    "    # Suppress scientific notation\n",
    "    np.set_printoptions(suppress=True)\n",
    "    print('Voxel values:' + str(voxelValues))\n",
    "    # Display warning\n",
    "    if len(voxelValues) > 2:\n",
    "        print('WARNING: Voxels have more than two distinct values')\n",
    "    # Get min and max values\n",
    "    minVal = shapeSeg_array.min()\n",
    "    maxVal = shapeSeg_array.max()\n",
    "    # Compute isovalue\n",
    "    isoValue = (maxVal - minVal) / 2.0\n",
    "    # Extract isosurface\n",
    "    shapeMesh = shapeSeg.toMesh(isovalue=isoValue)\n",
    "    # Convert to VTK format\n",
    "    shapeMesh_vtk = sw.sw2vtkMesh(shapeMesh, verbose = False)\n",
    "    return shapeMesh_vtk\n",
    "\n",
    "# Example usage\n",
    "# convert_plot_save(shapeSeg1, 'shape1.vtk')\n",
    "# convert_plot_save(shapeSeg2, 'shape2.vtk')\n",
    "\n",
    "output_dir = 'OUTPUT'\n",
    "os.makedirs(output_dir, exist_ok=True)\n",
    "\n",
    "convert_plot_save(shapeSeg1, output_dir + '/mesh1.vtk')\n",
    "convert_plot_save(shapeSeg2, output_dir + '/mesh2.vtk')"
   ]
  }
 ],
 "metadata": {
  "kernelspec": {
   "display_name": "shapeworks",
   "language": "python",
   "name": "python3"
  },
  "language_info": {
   "codemirror_mode": {
    "name": "ipython",
    "version": 3
   },
   "file_extension": ".py",
   "mimetype": "text/x-python",
   "name": "python",
   "nbconvert_exporter": "python",
   "pygments_lexer": "ipython3",
   "version": "3.9.13"
  }
 },
 "nbformat": 4,
 "nbformat_minor": 2
}
