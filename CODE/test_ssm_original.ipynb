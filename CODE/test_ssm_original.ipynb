{
 "cells": [
  {
   "cell_type": "markdown",
   "metadata": {},
   "source": [
    "# Getting Started with Exploring Segmentations "
   ]
  },
  {
   "cell_type": "markdown",
   "metadata": {},
   "source": [
    "## Test on my one dataset"
   ]
  },
  {
   "cell_type": "code",
   "execution_count": 14,
   "metadata": {},
   "outputs": [],
   "source": [
    "import shapeworks as sw"
   ]
  },
  {
   "cell_type": "markdown",
   "metadata": {},
   "source": [
    "## 1. Defining and exploring your dataset\n",
    "\n",
    "### Defining dataset location\n"
   ]
  },
  {
   "cell_type": "code",
   "execution_count": 15,
   "metadata": {},
   "outputs": [],
   "source": [
    "#import relevant libraries\n",
    "import numpy as np\n",
    "import glob \n",
    "from pathlib import Path \n"
   ]
  },
  {
   "cell_type": "code",
   "execution_count": 3,
   "metadata": {},
   "outputs": [],
   "source": []
  },
  {
   "cell_type": "code",
   "execution_count": 16,
   "metadata": {},
   "outputs": [],
   "source": [
    "data_path=\"./Label-Maps/\"\n",
    "datasetName=\"FULGUR\"\n",
    "shapeExtention = '.nii.gz'"
   ]
  },
  {
   "cell_type": "markdown",
   "metadata": {},
   "source": [
    "### What is available in the dataset?\n",
    "\n",
    "First let's see how many shapes we have in the dataset.\n",
    "\n",
    "**File formats:** For binary segmentations, all [itk-supported image formats](https://insightsoftwareconsortium.github.io/itk-js/docs/image_formats.html) can be used."
   ]
  },
  {
   "cell_type": "code",
   "execution_count": 17,
   "metadata": {},
   "outputs": [
    {
     "name": "stdout",
     "output_type": "stream",
     "text": [
      "Number of shapes: 0\n",
      "Shape files found:\n"
     ]
    }
   ],
   "source": [
    "\n",
    "# let's get a list of files for available segmentations in this dataset\n",
    "# * here is a wild character used to retrieve all filenames \n",
    "# in the shape directory with the file extensnion\n",
    "shapeFilenames = sorted(glob.glob(data_path + '*' + shapeExtention)) \n",
    "\n",
    "print ('Number of shapes: ' + str(len(shapeFilenames)))\n",
    "print('Shape files found:')\n",
    "\n",
    "for shapeFilename in shapeFilenames:\n",
    "    shapeFilename = Path(shapeFilename)\n",
    "    print(shapeFilename)"
   ]
  },
  {
   "cell_type": "markdown",
   "metadata": {},
   "source": [
    "## 2. Exploring your dataset\n",
    "\n",
    "We would like to better understand the given dataset to decide the appropriate grooming (preprocessing) pipeline/step to prepare it for shape modeling."
   ]
  },
  {
   "cell_type": "markdown",
   "metadata": {},
   "source": [
    "### Loading your dataset\n",
    "\n",
    "First step is to load the dataset. \n",
    "\n",
    "**Note:** If your dataset is large (large volumes and/or large number of segmentations), you could select a subset for this exploration step."
   ]
  },
  {
   "cell_type": "code",
   "execution_count": 18,
   "metadata": {},
   "outputs": [
    {
     "name": "stdout",
     "output_type": "stream",
     "text": [
      "\n",
      "0 segmentations are loaded for the FULGUR dataset ...\n"
     ]
    }
   ],
   "source": [
    "# list of shape segmentations\n",
    "shapeSegList = []\n",
    "\n",
    "# list of shape names (shape files prefixes) to be used \n",
    "# for saving outputs and visualizations\n",
    "shapeNames   = [] \n",
    "\n",
    "# loop over all shape files and load individual segmentations\n",
    "for shapeFilename in shapeFilenames:\n",
    "    print('Loading: ' + shapeFilename)\n",
    "    \n",
    "    # current shape name\n",
    "    segFilename = shapeFilename.split('/')[-1] \n",
    "    shapeName   = segFilename[:-len(shapeExtention)]\n",
    "    shapeNames.append(shapeName)\n",
    "    \n",
    "    # load segmentation\n",
    "    shapeSeg = sw.Image(shapeFilename)\n",
    "    \n",
    "    # append to the shape list\n",
    "    shapeSegList.append(shapeSeg)\n",
    "\n",
    "num_samples = len(shapeSegList)\n",
    "print('\\n' + str(num_samples) + \n",
    "      ' segmentations are loaded for the ' + datasetName + ' dataset ...')"
   ]
  },
  {
   "cell_type": "code",
   "execution_count": 19,
   "metadata": {},
   "outputs": [
    {
     "data": {
      "text/plain": [
       "[]"
      ]
     },
     "execution_count": 19,
     "metadata": {},
     "output_type": "execute_result"
    }
   ],
   "source": [
    "shapeSegList"
   ]
  },
  {
   "cell_type": "code",
   "execution_count": 20,
   "metadata": {},
   "outputs": [],
   "source": [
    "\n",
    "def convert_to_one_hot(image, num_classes):\n",
    "    data = image.toArray()  # Get the image data as a numpy array\n",
    "    shape = data.shape\n",
    "    one_hot = np.zeros((num_classes, *shape), dtype=np.uint8)  # Create the one-hot array\n",
    "    \n",
    "    for i in range(num_classes):\n",
    "        one_hot[i] = (data == i).astype(np.uint8)  # Set pixels for each class\n",
    "        \n",
    "    return one_hot"
   ]
  },
  {
   "cell_type": "markdown",
   "metadata": {},
   "source": [
    "#Prepare your lists\n",
    "shapeSegList_all = []\n",
    "shape_nameList_final = []\n",
    "\n",
    "#Number of segmentation classes (including background)\n",
    "num_classes = 19\n",
    "\n",
    "#Loop over each segmentation image and process it\n",
    "for idx, shapeSeg in enumerate(shapeSegList):\n",
    "    one_hot = convert_to_one_hot(shapeSeg, num_classes)\n",
    "    print(np.shape(one_hot))\n",
    "    one_hot_transposed = np.transpose(one_hot, (0, 3, 2, 1))\n",
    "    print(\"Transposed shape:\", np.shape(one_hot_transposed))\n",
    "    # Ensure the array is C-contiguous\n",
    "    one_hot_contiguous = np.ascontiguousarray(one_hot_transposed)    \n",
    "    \n",
    "    # Exclude background and store each class as a separate shape\n",
    "    for class_idx in range(1, num_classes):\n",
    "    #for class_idx in range(1, 2):\n",
    "        class_data = one_hot_contiguous[class_idx,:, :, :]\n",
    "\n",
    "        # Create a ShapeWorks image object\n",
    "        class_image = sw.Image(class_data.astype(np.float32))\n",
    "        shape_name = shapeNames[idx]\n",
    "        shape_name_final = f'{shape_name}_class_{class_idx}.nii.gz'\n",
    "        shapeSegList_all.append(class_image)\n",
    "        shape_nameList_final.append(shape_name_final)\n",
    "        \n",
    "\n",
    "        class_data = one_hot[class_idx]\n",
    "        \"\"\"\n",
    "        # Create a ShapeWorks image object\n",
    "        class_image = sw.Image(class_data.astype(np.float32))\n",
    "        shape_name = shapeNames[idx]\n",
    "        shape_name_final=os.path.join(output_dir, f'{shape_name}_class_{class_idx}.nii.gz')\n",
    "        shape_name_temp=f'{shape_name}_class_{class_idx}.nii.gz'\n",
    "        shape_nameList_final.append(shape_name_temp)\n",
    "        shapeSegList_all.append(shape_name_final)\n",
    "        \"\"\"\n",
    "        \n",
    "        print(f'Prepared: {shape_name_final}')"
   ]
  },
  {
   "cell_type": "markdown",
   "metadata": {},
   "source": [
    "#Prepare your lists\n",
    "shapeSegList_all = []\n",
    "shape_nameList_final = []\n",
    "\n",
    "#Number of segmentation classes (including background)\n",
    "num_classes = 19\n",
    "\n",
    "#Loop over each segmentation image and process it\n",
    "for idx, shapeSeg in enumerate(shapeSegList):\n",
    "    # Exclude background and store each class as a separate shape\n",
    "    for class_idx in range(1, num_classes):\n",
    "    #for class_idx in range(1, 2):\n",
    "        # Create a ShapeWorks image object\n",
    "        class_image = sw.Image(class_data.astype(np.float32))\n",
    "        shape_name = shapeNames[idx]\n",
    "        shape_name_final=os.path.join(output_dir, f'{shape_name}_class_{class_idx}.nii.gz')\n",
    "        shape_name_temp=f'{shape_name}_class_{class_idx}.nii.gz'\n",
    "        shape_nameList_final.append(shape_name_temp)\n",
    "        shapeSegList_all.append(shape_name_final)\n",
    "        print(f'Prepared: {shape_name_final}')"
   ]
  },
  {
   "cell_type": "markdown",
   "metadata": {},
   "source": [
    "# Once converted into separated nifti files for each muscle for each subject"
   ]
  },
  {
   "cell_type": "code",
   "execution_count": 21,
   "metadata": {},
   "outputs": [],
   "source": [
    "import os\n",
    "from pathlib import Path\n",
    "from scipy.ndimage import zoom\n",
    "import matplotlib.pyplot as plt"
   ]
  },
  {
   "cell_type": "code",
   "execution_count": 22,
   "metadata": {},
   "outputs": [],
   "source": [
    "# Function to downsample the volume if it's too large\n",
    "def downsample_volume(volume, factor):\n",
    "    data = volume.toArray()\n",
    "    zoom_factors = (1 / factor, 1 / factor, 1 / factor)\n",
    "    downsampled_data = zoom(data, zoom_factors, order=1)  # Using linear interpolation\n",
    "    return sw.Image(downsampled_data.astype(np.float32))\n"
   ]
  },
  {
   "cell_type": "code",
   "execution_count": 23,
   "metadata": {},
   "outputs": [
    {
     "name": "stdout",
     "output_type": "stream",
     "text": [
      "Number of shapes: 0\n",
      "Shape files found:\n"
     ]
    }
   ],
   "source": [
    "data_path_onehot='./Label-Maps/'\n",
    "shapeFilenames_onehot = sorted(glob.glob(data_path_onehot + '*' + shapeExtention)) \n",
    "#print (shapeFilenames_onehot)\n",
    "\n",
    "print ('Number of shapes: ' + str(len(shapeFilenames_onehot)))\n",
    "print('Shape files found:')\n",
    "\n",
    "for shapeFilename in shapeFilenames_onehot:\n",
    "    shapeFilename = Path(shapeFilename)\n",
    "    print(shapeFilename)\n",
    "\n"
   ]
  },
  {
   "cell_type": "markdown",
   "metadata": {},
   "source": [
    "\n",
    "\n",
    "#list of shape segmentations\n",
    "small_shapes = []\n",
    "\n",
    "#list of shape names (shape files prefixes) to be used \n",
    "#for saving outputs and visualizations\n",
    "small_shapeNames   = [] \n",
    "\n",
    "#loop over all shape files and load individual segmentations\n",
    "for shapeFilename in shapeFilenames_onehot:\n",
    "    print('Loading: ' + shapeFilename)\n",
    "    \n",
    "    # current shape name\n",
    "    segFilename = shapeFilename.split('/')[-1] \n",
    "    shapeName   = segFilename[:-len(shapeExtention)]\n",
    "    small_shapeNames.append(shapeName)\n",
    "    \n",
    "    # load segmentation\n",
    "    shapeSeg = sw.Image(shapeFilename)\n",
    "    \n",
    "    # append to the shape list\n",
    "    small_shapes.append(shapeSeg)\n",
    "\n",
    "num_samples = len(small_shapes)\n",
    "print('\\n' + str(num_samples) + \n",
    "      ' segmentations are loaded for the ' + datasetName + ' dataset ...')"
   ]
  },
  {
   "cell_type": "code",
   "execution_count": 24,
   "metadata": {},
   "outputs": [
    {
     "name": "stdout",
     "output_type": "stream",
     "text": [
      "\n",
      "0 segmentations are loaded for the dataset...\n"
     ]
    }
   ],
   "source": [
    "# Adjust the downsample factor based on your hardware capabilities\n",
    "downsample_factor = 2\n",
    "\n",
    "# List of shape segmentations\n",
    "small_shapes = []\n",
    "\n",
    "# List of shape names (shape files prefixes) to be used for saving outputs and visualizations\n",
    "small_shapeNames = [] \n",
    "\n",
    "# Loop over all shape files and load individual segmentations\n",
    "for shapeFilename in shapeFilenames_onehot:\n",
    "    print('Loading: ' + str(shapeFilename))\n",
    "    \n",
    "    # Convert to Path object to access .name attribute\n",
    "    shapeFilename = Path(shapeFilename)\n",
    "    \n",
    "    # Current shape name\n",
    "    segFilename = shapeFilename.name\n",
    "    shapeName = segFilename[:-len(shapeExtention)]\n",
    "    small_shapeNames.append(shapeName)\n",
    "    \n",
    "    # Load segmentation\n",
    "    shapeSeg = sw.Image(str(shapeFilename))\n",
    "    \n",
    "    # Downsample the volume if needed\n",
    "    downsampled_shapeSeg = downsample_volume(shapeSeg, downsample_factor)\n",
    "    \n",
    "    # Append to the shape list\n",
    "    small_shapes.append(downsampled_shapeSeg)\n",
    "\n",
    "num_samples = len(small_shapes)\n",
    "print('\\n' + str(num_samples) + ' segmentations are loaded for the dataset...')\n"
   ]
  },
  {
   "cell_type": "markdown",
   "metadata": {},
   "source": [
    "### Visualizing your dataset\n",
    "\n",
    "Now let's visualize all samples in a grid using `pyvista`. You may need to call `pv.close_all()` every once in a while to clean up the unclosed plotters.\n",
    "We will use `sw.plot_volumes` function from the Shapeworks python module. This function will take in a list of shapeworks images as input and initiate a pyvista plotter to render multiple windows, each with a single segmentation, add segmentations to the plotter, and start rendering."
   ]
  },
  {
   "cell_type": "code",
   "execution_count": 25,
   "metadata": {},
   "outputs": [],
   "source": [
    "#define parameters that controls the plotter\n",
    "use_same_window = False # plot using multiple rendering windows if false\n",
    "notebook        = False # True will enable the plots to lie inline\n",
    "show_borders    = True  # show borders for each rendering window\n",
    "shade_volumes   = True  # use shading when performing volume rendering\n",
    "color_map       = \"viridis\" # color map for volume rendering, e.g., 'bone', 'coolwarm', 'cool', 'viridis', 'magma'\n",
    "show_axes       = True  # show a vtk axes widget for each rendering window\n",
    "show_bounds     = True  # show volume bounding box\n",
    "show_all_edges  = True  # add an unlabeled and unticked box at the boundaries of plot. \n",
    "font_size       = 10    # text font size for windows\n",
    "link_views      = True  # link all rendering windows so that they share same camera and axes boundaries\n",
    "\n",
    "#plot all segmentations in the shape list"
   ]
  },
  {
   "cell_type": "markdown",
   "metadata": {},
   "source": [
    "#Set the options for the plot\n",
    "use_same_window = True\n",
    "notebook = True\n",
    "show_borders = True\n",
    "shade_volumes = True\n",
    "color_map = 'viridis'\n",
    "show_axes = True\n",
    "show_bounds = True\n",
    "show_all_edges = True\n",
    "font_size = 12\n",
    "link_views = True"
   ]
  },
  {
   "cell_type": "markdown",
   "metadata": {},
   "source": [
    "small_shapes=shapeSegList_all[0:3]\n",
    "print(small_shapes)\n",
    "small_shapeNames=shape_nameList_final[0:3]\n",
    "print(small_shapeNames)"
   ]
  },
  {
   "cell_type": "code",
   "execution_count": 26,
   "metadata": {},
   "outputs": [
    {
     "ename": "ValueError",
     "evalue": "max() arg is an empty sequence",
     "output_type": "error",
     "traceback": [
      "\u001b[1;31m---------------------------------------------------------------------------\u001b[0m",
      "\u001b[1;31mValueError\u001b[0m                                Traceback (most recent call last)",
      "Cell \u001b[1;32mIn[26], line 1\u001b[0m\n\u001b[1;32m----> 1\u001b[0m \u001b[43msw\u001b[49m\u001b[38;5;241;43m.\u001b[39;49m\u001b[43mplot_volumes\u001b[49m\u001b[43m(\u001b[49m\u001b[43msmall_shapes\u001b[49m\u001b[43m,\u001b[49m\u001b[43m    \u001b[49m\n\u001b[0;32m      2\u001b[0m \u001b[43m             \u001b[49m\u001b[43mvolumeNames\u001b[49m\u001b[43m     \u001b[49m\u001b[38;5;241;43m=\u001b[39;49m\u001b[43m \u001b[49m\u001b[43msmall_shapeNames\u001b[49m\u001b[43m,\u001b[49m\u001b[43m \u001b[49m\n\u001b[0;32m      3\u001b[0m \u001b[43m             \u001b[49m\u001b[43muse_same_window\u001b[49m\u001b[43m \u001b[49m\u001b[38;5;241;43m=\u001b[39;49m\u001b[43m \u001b[49m\u001b[43muse_same_window\u001b[49m\u001b[43m,\u001b[49m\n\u001b[0;32m      4\u001b[0m \u001b[43m             \u001b[49m\u001b[43mnotebook\u001b[49m\u001b[43m        \u001b[49m\u001b[38;5;241;43m=\u001b[39;49m\u001b[43m \u001b[49m\u001b[43mnotebook\u001b[49m\u001b[43m,\u001b[49m\n\u001b[0;32m      5\u001b[0m \u001b[43m             \u001b[49m\u001b[43mshow_borders\u001b[49m\u001b[43m    \u001b[49m\u001b[38;5;241;43m=\u001b[39;49m\u001b[43m \u001b[49m\u001b[43mshow_borders\u001b[49m\u001b[43m,\u001b[49m\u001b[43m  \u001b[49m\n\u001b[0;32m      6\u001b[0m \u001b[43m             \u001b[49m\u001b[43mshade_volumes\u001b[49m\u001b[43m   \u001b[49m\u001b[38;5;241;43m=\u001b[39;49m\u001b[43m \u001b[49m\u001b[43mshade_volumes\u001b[49m\u001b[43m,\u001b[49m\u001b[43m \u001b[49m\n\u001b[0;32m      7\u001b[0m \u001b[43m             \u001b[49m\u001b[43mcolor_map\u001b[49m\u001b[43m       \u001b[49m\u001b[38;5;241;43m=\u001b[39;49m\u001b[43m \u001b[49m\u001b[43mcolor_map\u001b[49m\u001b[43m,\u001b[49m\n\u001b[0;32m      8\u001b[0m \u001b[43m             \u001b[49m\u001b[43mshow_axes\u001b[49m\u001b[43m       \u001b[49m\u001b[38;5;241;43m=\u001b[39;49m\u001b[43m \u001b[49m\u001b[43mshow_axes\u001b[49m\u001b[43m,\u001b[49m\u001b[43m  \u001b[49m\n\u001b[0;32m      9\u001b[0m \u001b[43m             \u001b[49m\u001b[43mshow_bounds\u001b[49m\u001b[43m     \u001b[49m\u001b[38;5;241;43m=\u001b[39;49m\u001b[43m \u001b[49m\u001b[43mshow_bounds\u001b[49m\u001b[43m,\u001b[49m\n\u001b[0;32m     10\u001b[0m \u001b[43m             \u001b[49m\u001b[43mshow_all_edges\u001b[49m\u001b[43m  \u001b[49m\u001b[38;5;241;43m=\u001b[39;49m\u001b[43m \u001b[49m\u001b[43mshow_all_edges\u001b[49m\u001b[43m,\u001b[49m\u001b[43m \u001b[49m\n\u001b[0;32m     11\u001b[0m \u001b[43m             \u001b[49m\u001b[43mfont_size\u001b[49m\u001b[43m       \u001b[49m\u001b[38;5;241;43m=\u001b[39;49m\u001b[43m \u001b[49m\u001b[43mfont_size\u001b[49m\u001b[43m,\u001b[49m\u001b[43m   \u001b[49m\n\u001b[0;32m     12\u001b[0m \u001b[43m             \u001b[49m\u001b[43mlink_views\u001b[49m\u001b[43m      \u001b[49m\u001b[38;5;241;43m=\u001b[39;49m\u001b[43m \u001b[49m\u001b[43mlink_views\u001b[49m\n\u001b[0;32m     13\u001b[0m \u001b[43m             \u001b[49m\u001b[43m)\u001b[49m\n",
      "File \u001b[1;32mc:\\Users\\sacha\\miniconda3\\envs\\shapeworks\\lib\\site-packages\\shapeworks\\plot.py:113\u001b[0m, in \u001b[0;36mplot_volumes\u001b[1;34m(volumeList, volumeNames, use_same_window, notebook, show_borders, shade_volumes, color_map, show_axes, show_bounds, show_all_edges, font_size, link_views)\u001b[0m\n\u001b[0;32m    110\u001b[0m     grid_rows, grid_cols \u001b[38;5;241m=\u001b[39m \u001b[38;5;241m1\u001b[39m, \u001b[38;5;241m1\u001b[39m\n\u001b[0;32m    111\u001b[0m \u001b[38;5;28;01melse\u001b[39;00m:\n\u001b[0;32m    112\u001b[0m     \u001b[38;5;66;03m# define grid size for given number of samples\u001b[39;00m\n\u001b[1;32m--> 113\u001b[0m     grid_rows, grid_cols \u001b[38;5;241m=\u001b[39m \u001b[43mnum_subplots\u001b[49m\u001b[43m(\u001b[49m\u001b[43mnum_samples\u001b[49m\u001b[43m)\u001b[49m\n\u001b[0;32m    115\u001b[0m \u001b[38;5;66;03m# define plotter\u001b[39;00m\n\u001b[0;32m    116\u001b[0m plotter \u001b[38;5;241m=\u001b[39m pv\u001b[38;5;241m.\u001b[39mPlotter(shape    \u001b[38;5;241m=\u001b[39m (grid_rows, grid_cols),\n\u001b[0;32m    117\u001b[0m                      notebook \u001b[38;5;241m=\u001b[39m notebook,\n\u001b[0;32m    118\u001b[0m                      border   \u001b[38;5;241m=\u001b[39m show_borders)\n",
      "File \u001b[1;32mc:\\Users\\sacha\\miniconda3\\envs\\shapeworks\\lib\\site-packages\\shapeworks\\utils.py:25\u001b[0m, in \u001b[0;36mnum_subplots\u001b[1;34m(num_samples)\u001b[0m\n\u001b[0;32m     23\u001b[0m \u001b[38;5;28;01mdef\u001b[39;00m \u001b[38;5;21mnum_subplots\u001b[39m(num_samples):\n\u001b[0;32m     24\u001b[0m     factors \u001b[38;5;241m=\u001b[39m postive_factors(num_samples)\n\u001b[1;32m---> 25\u001b[0m     cols    \u001b[38;5;241m=\u001b[39m \u001b[38;5;28mmin\u001b[39m(\u001b[38;5;28mint\u001b[39m(np\u001b[38;5;241m.\u001b[39mceil(np\u001b[38;5;241m.\u001b[39msqrt(num_samples))),\u001b[38;5;28;43mmax\u001b[39;49m\u001b[43m(\u001b[49m\u001b[43mfactors\u001b[49m\u001b[43m)\u001b[49m)\n\u001b[0;32m     26\u001b[0m     rows    \u001b[38;5;241m=\u001b[39m \u001b[38;5;28mint\u001b[39m(np\u001b[38;5;241m.\u001b[39mceil(num_samples\u001b[38;5;241m/\u001b[39mcols))\n\u001b[0;32m     28\u001b[0m     \u001b[38;5;28;01mreturn\u001b[39;00m rows, cols\n",
      "\u001b[1;31mValueError\u001b[0m: max() arg is an empty sequence"
     ]
    }
   ],
   "source": [
    "\n",
    "sw.plot_volumes(small_shapes,    \n",
    "             volumeNames     = small_shapeNames, \n",
    "             use_same_window = use_same_window,\n",
    "             notebook        = notebook,\n",
    "             show_borders    = show_borders,  \n",
    "             shade_volumes   = shade_volumes, \n",
    "             color_map       = color_map,\n",
    "             show_axes       = show_axes,  \n",
    "             show_bounds     = show_bounds,\n",
    "             show_all_edges  = show_all_edges, \n",
    "             font_size       = font_size,   \n",
    "             link_views      = link_views\n",
    "             )"
   ]
  },
  {
   "cell_type": "markdown",
   "metadata": {},
   "source": [
    "#Custom function to plot volumes and add a title\n",
    "def plot_volumes_with_title(volumes, volumeNames, title, use_same_window=True):\n",
    "    plotter = pv.Plotter(shape=(1, len(volumes)), title=title)\n",
    "    \n",
    "    for i, volume in enumerate(volumes):\n",
    "        plotter.subplot(0, i)\n",
    "        plotter.add_volume(volume.toArray(), cmap='viridis', shade=True)\n",
    "        plotter.add_text(volumeNames[i], font_size=10)\n",
    "    \n",
    "    plotter.link_views()\n",
    "    plotter.show_axes()\n",
    "    plotter.show_bounds()\n",
    "    plotter.show()\n",
    "\n",
    "#Plot the volumes with a single title\n",
    "plot_volumes_with_title(small_shapes, small_shapeNames, 'Volume Segmentation Visualization')\n",
    "\n",
    "#If you still want to use matplotlib, you can try to integrate it like this\n",
    "plt.figure(figsize=(10, 8))\n",
    "plt.suptitle('Volume Segmentation Visualization', fontsize=20)\n",
    "plt.show()"
   ]
  },
  {
   "cell_type": "markdown",
   "metadata": {},
   "source": [
    "## 3. Deciding the grooming pipeline needed for your dataset"
   ]
  },
  {
   "cell_type": "markdown",
   "metadata": {},
   "source": [
    "Does this dataset need grooming? What are grooming steps needed? Let's inspect the segmentations. What do we observe?"
   ]
  },
  {
   "cell_type": "markdown",
   "metadata": {},
   "source": [
    "### Voxel spacing\n",
    "\n",
    "Voxel spacing are not isotropic, i.e., voxel size in each of the three dimensions are not equal.This can be identified if you zoom-in in the visualization below and observe the step size in the x,y,z direction. Anisotropic spacing could adversely impact particles optimization since shapeworks assumes equal voxel spacing. Some datasets might also have different voxel spacings for each segmentation. \n",
    "\n",
    "*Hence, it is necessary to bring all segmentations to the same voxel spacing that is equal in all dimensions.* \n",
    "\n",
    "Another observation is voxel spacing is relatively large. This can be observed by the pixelated volume rendering and the jagged isosurface. \n",
    "\n",
    "*We can improve the segmentation resolution by decreasing voxel spacing.*"
   ]
  },
  {
   "cell_type": "code",
   "execution_count": 15,
   "metadata": {},
   "outputs": [
    {
     "name": "stdout",
     "output_type": "stream",
     "text": [
      "shapeworks image header information: \n",
      "{\n",
      "\tdims: [230, 223, 772],\n",
      "\torigin: [0, 0, 0],\n",
      "\tsize: [230, 223, 772],\n",
      "\tspacing: [1, 1, 1]\n",
      "}\n",
      "\n",
      "vtk image header information: \n",
      "ImageData (0x1d7b8bfd8e0)\n",
      "  N Cells:      39196098\n",
      "  N Points:     39595880\n",
      "  X Bounds:     0.000e+00, 2.290e+02\n",
      "  Y Bounds:     0.000e+00, 2.220e+02\n",
      "  Z Bounds:     0.000e+00, 7.710e+02\n",
      "  Dimensions:   230, 223, 772\n",
      "  Spacing:      1.000e+00, 1.000e+00, 1.000e+00\n",
      "  N Arrays:     1\n"
     ]
    }
   ],
   "source": [
    "import pyvista as pv\n",
    "# to better appreciate the pixelated nature of these segmentations, we need to only visualize \n",
    "# the binary segmentation, notice the thick slices\n",
    "\n",
    "shapeIdx = 1\n",
    "shapeSeg = small_shapes[shapeIdx]\n",
    " \n",
    "\n",
    "shapeSeg_vtk = sw.sw2vtkImage(shapeSeg, verbose = True)\n",
    "\n",
    "sw.plot_volumes(shapeSeg_vtk)"
   ]
  },
  {
   "cell_type": "markdown",
   "metadata": {},
   "source": [
    "### Segmentations and image boundaries \n",
    "\n",
    "Some segmentations are very close to the image boundary, not leaving enough room for particles (correspondences) to move and spread over these surface regions. In particular, particles could overshoot outside the image boundary during optimization. \n",
    "\n",
    "Furthermore, if a segmentation touches the image boundary, this will result in an artificially (i.e., not real) open surface. \n",
    "\n",
    "*Hence, these segmentations needs to be padded with background voxels (zero-valued) to create more room along each dimension.*"
   ]
  },
  {
   "cell_type": "code",
   "execution_count": 16,
   "metadata": {},
   "outputs": [],
   "source": [
    "# let's inspect a segmentation that touches the image boundaries\n",
    "shapeIdx = 0\n",
    "shapeSeg = small_shapes[shapeIdx]\n",
    "\n",
    "shapeSeg_vtk = sw.sw2vtkImage(shapeSeg, verbose = False)\n",
    "\n",
    "sw.plot_volumes(shapeSeg_vtk)"
   ]
  },
  {
   "cell_type": "markdown",
   "metadata": {},
   "source": [
    "<p><img src=\"./Tuto_img/tuto_visualize0.png\"></p>"
   ]
  },
  {
   "cell_type": "markdown",
   "metadata": {},
   "source": [
    "\n",
    "This segmentation touches the image boundary and hence will result in an artificially open surface. To inspect this behavior, we need extract a surface mesh (isosurface) from each segmentation. An isosurface is a three-dimensional surface that represents points of a constant value (aka isovalue) within the given volume of space."
   ]
  },
  {
   "cell_type": "code",
   "execution_count": 17,
   "metadata": {},
   "outputs": [
    {
     "name": "stdout",
     "output_type": "stream",
     "text": [
      "Help on method toMesh in module shapeworks_py:\n",
      "\n",
      "toMesh(...) method of shapeworks_py.Image instance\n",
      "    toMesh(self: shapeworks_py.Image, isovalue: float) -> shapeworks::Mesh\n",
      "    \n",
      "    converts image to mesh at specified isovalue\n",
      "\n"
     ]
    }
   ],
   "source": [
    "# let's see if there's a function that extracts an isosurface from an image\n",
    "# use dot-tap to get a list of functions/apis available for shapeSeg\n",
    "\n",
    "# found it - toMesh, let's see its help\n",
    "help(shapeSeg.toMesh)"
   ]
  },
  {
   "cell_type": "markdown",
   "metadata": {},
   "source": [
    "The `toMesh` function needs an isovalue, which is the constant value the represents the surface of interest. Since a shape segmentation is a binary image, the foreground is expected to have the value of 1 (white) and the background should have a zero value (black), so an appropriate isovalue to extract the foregound-background interface a value in between, e.g., 0.5"
   ]
  },
  {
   "cell_type": "code",
   "execution_count": 18,
   "metadata": {},
   "outputs": [
    {
     "name": "stdout",
     "output_type": "stream",
     "text": [
      "\n",
      "Voxel values:[0.         0.09131903 0.09252457 ... 0.89141685 0.8925598  1.        ]\n",
      "WARNING: F099_label_4_RF is not a bindary segmentation. Voxels have more than two distinct values\n",
      "PLEASE make sure to use binary segmentations\n"
     ]
    }
   ],
   "source": [
    "import numpy as np\n",
    "# let's make sure that our assumptions about the voxel values are correct\n",
    "# is the given volume a binary segmentation?\n",
    "\n",
    "# first convert to numpy array\n",
    "shapeSeg_array = shapeSeg.toArray()\n",
    "\n",
    "# make sure that it is a binary segmentation\n",
    "voxelValues = np.unique(shapeSeg_array)\n",
    "print('\\nVoxel values:' + str(voxelValues))\n",
    "\n",
    "if len(voxelValues) > 2:\n",
    "    print('WARNING: ' + shapeName + ' is not a bindary segmentation. Voxels have more than two distinct values')\n",
    "    print('PLEASE make sure to use binary segmentations')\n",
    "else:\n",
    "    print('Shape ' + shapeName + ' is a binary segmentation')"
   ]
  },
  {
   "cell_type": "code",
   "execution_count": 19,
   "metadata": {},
   "outputs": [
    {
     "name": "stdout",
     "output_type": "stream",
     "text": [
      "\n",
      "Minimum voxel value: 0.0\n",
      "Maximum voxel value: 1.0\n",
      "\n",
      "isoValue = 0.5\n"
     ]
    }
   ],
   "source": [
    "# now define the isovalue, in case a binary segmentation has a foreground label that is not 1\n",
    "# we need to obtain a value inbetween\n",
    "\n",
    "# get min and max values\n",
    "minVal = shapeSeg_array.min()\n",
    "maxVal = shapeSeg_array.max()\n",
    "\n",
    "print('\\nMinimum voxel value: ' + str(minVal))\n",
    "print('Maximum voxel value: ' + str(maxVal))\n",
    "\n",
    "isoValue = (maxVal - minVal)/2.0\n",
    "print('\\nisoValue = ' + str(isoValue))"
   ]
  },
  {
   "cell_type": "code",
   "execution_count": 20,
   "metadata": {},
   "outputs": [],
   "source": [
    "# let's extract the segmentation isosurface and visualize it\n",
    "\n",
    "# extract isosurface\n",
    "shapeMesh = shapeSeg.toMesh(isovalue = isoValue)\n",
    " \n",
    "# sw to vtk\n",
    "shapeMesh_vtk = sw.sw2vtkMesh(shapeMesh)\n",
    "\n",
    "sw.plot_meshes([shapeMesh_vtk])"
   ]
  },
  {
   "cell_type": "markdown",
   "metadata": {},
   "source": [
    "<p><img src=\"./Tuto_img/tuto_visualize.png\"></p>"
   ]
  },
  {
   "cell_type": "code",
   "execution_count": 21,
   "metadata": {},
   "outputs": [
    {
     "name": "stdout",
     "output_type": "stream",
     "text": [
      "Saved VTK mesh to: ./vtk_output/segmentation_mesh.vtk\n"
     ]
    }
   ],
   "source": [
    "\n",
    "output_dir = './vtk_output/'\n",
    "# Convert VTK mesh to PyVista object\n",
    "pv_mesh = pv.wrap(shapeMesh_vtk)\n",
    "\n",
    "# Define output filename\n",
    "output_filename = os.path.join(output_dir, 'segmentation_mesh.vtk')\n",
    "\n",
    "# Save the VTK mesh\n",
    "pv_mesh.save(output_filename)\n",
    "\n",
    "print(f'Saved VTK mesh to: {output_filename}')"
   ]
  },
  {
   "cell_type": "markdown",
   "metadata": {},
   "source": [
    "So, we have been able to extract a segmentation's isosurface and visualize it as a surface mesh. It is worth noting that the jagged surface is due to the anisotropic voxel space (with spacing in z-dimension is double that of x- and y-dimensions) and large voxel size."
   ]
  },
  {
   "cell_type": "markdown",
   "metadata": {},
   "source": [
    "### Shape alignment\n",
    "\n",
    "One can observe from the segmentation visualization that they are not roughly aligned, i.e., they do not share the same coordinate frame where each individual shape is located differently compared to other shapes. \n",
    "\n",
    "*Aligning shapes is a critical preprocessing step to avoid the shape model to encode variabilities pertaining to global transformations such as rotation and translation.* "
   ]
  },
  {
   "cell_type": "code",
   "execution_count": 22,
   "metadata": {},
   "outputs": [],
   "source": [
    "# let's inspect some segmentations where we can observe misalignment\n",
    "shapeIdxs = [0,1]\n",
    "\n",
    "shapeSegSubset   = [small_shapes[shapeIdx] for shapeIdx in shapeIdxs ]\n",
    "shapeNamesSubset = [small_shapeNames[shapeIdx]   for shapeIdx in shapeIdxs ]"
   ]
  },
  {
   "cell_type": "markdown",
   "metadata": {},
   "source": [
    "To inspect how mutliple segmentation are spatially aligned with respect to each other, we will visualize their surfaces in the same rendering window. "
   ]
  },
  {
   "cell_type": "code",
   "execution_count": 23,
   "metadata": {},
   "outputs": [],
   "source": [
    "shapeSegIsosurfaces     = []\n",
    "shapeSegIsosurfaces_vtk = []\n",
    "\n",
    "for shapeSeg in shapeSegSubset:\n",
    "    \n",
    "    # extract isosurface\n",
    "    shapeIsosurface = shapeSeg.toMesh(isovalue = isoValue)\n",
    "    \n",
    "    shapeSegIsosurfaces.append(shapeIsosurface)\n",
    " \n",
    "    # sw to vtk\n",
    "    shapeSegIsosurfaces_vtk.append(sw.sw2vtkMesh(shapeIsosurface, verbose = False))\n"
   ]
  },
  {
   "cell_type": "code",
   "execution_count": 24,
   "metadata": {},
   "outputs": [],
   "source": [
    "sw.plot_meshes(shapeSegIsosurfaces,       \n",
    "            use_same_window = True, \n",
    "            notebook        = False,  \n",
    "            show_borders    = True,  \n",
    "            meshes_color    = ['tan', 'blue','red'], \n",
    "            mesh_style      = \"surface\", \n",
    "            show_mesh_edges = False, \n",
    "            show_axes       = True,  \n",
    "            show_bounds     = True,  \n",
    "            show_all_edges  = True,  \n",
    "            font_size       = 10,    \n",
    "            link_views      = True   \n",
    "           )"
   ]
  },
  {
   "cell_type": "markdown",
   "metadata": {},
   "source": [
    "<p><img src=\"./Tuto_img/tuto_visualize2.png\"></p>"
   ]
  },
  {
   "cell_type": "markdown",
   "metadata": {},
   "source": [
    "### Too much background\n",
    "\n",
    "Image boundaries are not tight around shapes, leaving irrelevant background voxels that might increase the memory footprint when optimizing the shape model. \n",
    "\n",
    "*We can crop segmentations to remove unnecessary background.*"
   ]
  },
  {
   "cell_type": "code",
   "execution_count": 25,
   "metadata": {},
   "outputs": [],
   "source": [
    "shapeIdx = 1\n",
    "shapeSeg = small_shapes[shapeIdx]\n",
    "\n",
    "shapeSeg_vtk = sw.sw2vtkImage(shapeSeg, verbose = False)\n",
    "\n",
    "sw.plot_volumes(shapeSeg_vtk)"
   ]
  },
  {
   "cell_type": "markdown",
   "metadata": {},
   "source": [
    "<p><img src=\"./Tuto_img/tuto_visualize3.png\"></p>"
   ]
  },
  {
   "cell_type": "markdown",
   "metadata": {},
   "source": [
    "### Binary segmentations\n",
    "\n",
    "In general, this binary representation is not useful for finite numerical calculation of surface geometry and features that are required in shape modeling, which assumes the image is a sampling of a smooth function. \n",
    "\n",
    "Hence, ShapeWorks makes use of the signed distance transform of the binary segmentation that does satisfy this criterion. \n",
    "\n",
    "*For the correspondence optimization step, shapes can be represented as the zero level set of a smooth signed distance transform.*"
   ]
  },
  {
   "cell_type": "markdown",
   "metadata": {},
   "source": [
    "### Tentative grooming\n",
    "\n",
    "Hence, a tentative grooming pipeline entails the following steps:   \n",
    "1. Resampling segmentations to have smaller and isotropic voxel spacing   \n",
    "2. Rigidly aligning shapes   \n",
    "3. Cropping and padding segmentations   \n",
    "4. Converting segmentations to smooth signed distance transforms   \n",
    "\n",
    "\n",
    "Let the fun begins!!! Please visit [Getting Started with Grooming Segmentations](getting-started-with-grooming-segmentations.ipynb) to learn how to groom your dataset."
   ]
  },
  {
   "cell_type": "markdown",
   "metadata": {},
   "source": [
    "# Save Meshes as vtk"
   ]
  },
  {
   "cell_type": "code",
   "execution_count": 26,
   "metadata": {},
   "outputs": [
    {
     "name": "stdout",
     "output_type": "stream",
     "text": [
      "Number of shapes: 2\n",
      "Shape files found:\n",
      "Label-Maps\\F006_label_4_RF.nii.gz\n",
      "Label-Maps\\F099_label_4_RF.nii.gz\n",
      "Loading: Label-Maps\\F006_label_4_RF.nii.gz\n",
      "shapeworks image header information: \n",
      "{\n",
      "\tdims: [466, 451, 1518],\n",
      "\torigin: [2.61327, -102.748, -439.474],\n",
      "\tsize: [256.299, 248.049, 834.898],\n",
      "\tspacing: [0.549999, 0.549999, 0.549999]\n",
      "}\n",
      "\n",
      "vtk image header information: \n",
      "ImageData (0x1d7ffd810a0)\n",
      "  N Cells:      317432250\n",
      "  N Points:     319031988\n",
      "  X Bounds:     2.613e+00, 2.584e+02\n",
      "  Y Bounds:     -1.027e+02, 1.448e+02\n",
      "  Z Bounds:     -4.395e+02, 3.949e+02\n",
      "  Dimensions:   466, 451, 1518\n",
      "  Spacing:      5.500e-01, 5.500e-01, 5.500e-01\n",
      "  N Arrays:     1\n",
      "Saved: ./vtk_output/F006_label_4_RF.vtk\n",
      "Loading: Label-Maps\\F099_label_4_RF.nii.gz\n",
      "shapeworks image header information: \n",
      "{\n",
      "\tdims: [461, 446, 1544],\n",
      "\torigin: [-1.35085, -79.2534, -437.211],\n",
      "\tsize: [253.552, 245.302, 849.207],\n",
      "\tspacing: [0.550005, 0.550005, 0.550005]\n",
      "}\n",
      "\n",
      "vtk image header information: \n",
      "ImageData (0x1d7b8ef8a00)\n",
      "  N Cells:      315852100\n",
      "  N Points:     317455664\n",
      "  X Bounds:     -1.351e+00, 2.517e+02\n",
      "  Y Bounds:     -7.925e+01, 1.655e+02\n",
      "  Z Bounds:     -4.372e+02, 4.114e+02\n",
      "  Dimensions:   461, 446, 1544\n",
      "  Spacing:      5.500e-01, 5.500e-01, 5.500e-01\n",
      "  N Arrays:     1\n",
      "Saved: ./vtk_output/F099_label_4_RF.vtk\n"
     ]
    }
   ],
   "source": [
    "import shapeworks as sw\n",
    "import pyvista as pv\n",
    "import glob\n",
    "import os\n",
    "from pathlib import Path\n",
    "\n",
    "# Define the data path and shape extension\n",
    "data_path_onehot = './Label-Maps/'\n",
    "shapeExtention = '.nii.gz'\n",
    "output_dir = './vtk_output/'\n",
    "os.makedirs(output_dir, exist_ok=True)\n",
    "\n",
    "# Get list of shape filenames\n",
    "shapeFilenames_onehot = sorted(glob.glob(data_path_onehot + '*' + shapeExtention))\n",
    "\n",
    "print('Number of shapes: ' + str(len(shapeFilenames_onehot)))\n",
    "print('Shape files found:')\n",
    "\n",
    "for shapeFilename in shapeFilenames_onehot:\n",
    "    shapeFilename = Path(shapeFilename)\n",
    "    print(shapeFilename)\n",
    "\n",
    "# Load each segmentation, convert to VTK, and save\n",
    "for shapeFilename in shapeFilenames_onehot:\n",
    "    shapeFilename = Path(shapeFilename)\n",
    "    print(f'Loading: {shapeFilename}')\n",
    "\n",
    "    # Load segmentation\n",
    "    shapeSeg = sw.Image(str(shapeFilename))\n",
    "    \n",
    "    # Convert to VTK format\n",
    "    shapeSeg_vtk = sw.sw2vtkImage(shapeSeg, verbose=True)\n",
    "    \n",
    "    # Generate output filename\n",
    "    segFilename = shapeFilename.name\n",
    "    vtk_output_filename = os.path.join(output_dir, segFilename.replace(shapeExtention, '.vtk'))\n",
    "    \n",
    "    # Save the VTK mesh\n",
    "    pv.wrap(shapeSeg_vtk).save(vtk_output_filename)\n",
    "    \n",
    "    print(f'Saved: {vtk_output_filename}')\n"
   ]
  },
  {
   "cell_type": "code",
   "execution_count": null,
   "metadata": {},
   "outputs": [],
   "source": []
  }
 ],
 "metadata": {
  "kernelspec": {
   "display_name": "shapeworks",
   "language": "python",
   "name": "python3"
  },
  "language_info": {
   "codemirror_mode": {
    "name": "ipython",
    "version": 3
   },
   "file_extension": ".py",
   "mimetype": "text/x-python",
   "name": "python",
   "nbconvert_exporter": "python",
   "pygments_lexer": "ipython3",
   "version": "3.9.13"
  },
  "toc": {
   "base_numbering": 1,
   "nav_menu": {},
   "number_sections": false,
   "sideBar": true,
   "skip_h1_title": true,
   "title_cell": "Table of Contents",
   "title_sidebar": "Contents",
   "toc_cell": false,
   "toc_position": {},
   "toc_section_display": true,
   "toc_window_display": false
  }
 },
 "nbformat": 4,
 "nbformat_minor": 4
}
