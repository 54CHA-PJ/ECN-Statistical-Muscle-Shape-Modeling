{
 "cells": [
  {
   "cell_type": "markdown",
   "metadata": {},
   "source": [
    "## Particle-Based Surface Shape Modeling\n",
    "## PART 3 - Create Optimized Particle System\n",
    "\n",
    "```\n",
    "conda activate shapeworks\n",
    "```\n",
    "\n"
   ]
  },
  {
   "cell_type": "code",
   "execution_count": 2,
   "metadata": {},
   "outputs": [
    {
     "name": "stdout",
     "output_type": "stream",
     "text": [
      "Jupyter environment detected. Enabling Open3D WebVisualizer.\n",
      "[Open3D INFO] WebRTC GUI backend enabled.\n",
      "[Open3D INFO] WebRTCWindowSystem: HTTP handshake server disabled.\n"
     ]
    }
   ],
   "source": [
    "import shapeworks as sw"
   ]
  },
  {
   "cell_type": "code",
   "execution_count": 3,
   "metadata": {},
   "outputs": [
    {
     "name": "stdout",
     "output_type": "stream",
     "text": [
      "Number of points in mesh1: 56994\n",
      "Number of points in mesh2: 45538\n"
     ]
    },
    {
     "ename": "RuntimeError",
     "evalue": "ParticleSystemEvaluation files must have the same number of particles",
     "output_type": "error",
     "traceback": [
      "\u001b[1;31m---------------------------------------------------------------------------\u001b[0m",
      "\u001b[1;31mRuntimeError\u001b[0m                              Traceback (most recent call last)",
      "Cell \u001b[1;32mIn[3], line 16\u001b[0m\n\u001b[0;32m     13\u001b[0m pc2_remeshed\u001b[38;5;241m.\u001b[39mwrite(\u001b[38;5;124m'\u001b[39m\u001b[38;5;124mOUTPUT/mesh2_remeshed.vtk\u001b[39m\u001b[38;5;124m'\u001b[39m)\n\u001b[0;32m     15\u001b[0m \u001b[38;5;66;03m# Initialize the particle system with remeshed point cloud file paths\u001b[39;00m\n\u001b[1;32m---> 16\u001b[0m particle_system \u001b[38;5;241m=\u001b[39m \u001b[43msw\u001b[49m\u001b[38;5;241;43m.\u001b[39;49m\u001b[43mParticleSystem\u001b[49m\u001b[43m(\u001b[49m\u001b[43m[\u001b[49m\u001b[38;5;124;43m'\u001b[39;49m\u001b[38;5;124;43mOUTPUT/mesh1_remeshed.vtk\u001b[39;49m\u001b[38;5;124;43m'\u001b[39;49m\u001b[43m,\u001b[49m\u001b[43m \u001b[49m\u001b[38;5;124;43m'\u001b[39;49m\u001b[38;5;124;43mOUTPUT/mesh2_remeshed.vtk\u001b[39;49m\u001b[38;5;124;43m'\u001b[39;49m\u001b[43m]\u001b[49m\u001b[43m)\u001b[49m\n\u001b[0;32m     18\u001b[0m \u001b[38;5;66;03m# Add the point clouds to the particle system\u001b[39;00m\n\u001b[0;32m     19\u001b[0m particle_system\u001b[38;5;241m.\u001b[39maddShape(\u001b[38;5;124m'\u001b[39m\u001b[38;5;124mOUTPUT/mesh1_resampled.vtk\u001b[39m\u001b[38;5;124m'\u001b[39m)\n",
      "\u001b[1;31mRuntimeError\u001b[0m: ParticleSystemEvaluation files must have the same number of particles"
     ]
    }
   ],
   "source": [
    "mesh1 = sw.Mesh('OUTPUT/mesh1.vtk')\n",
    "mesh2 = sw.Mesh('OUTPUT/mesh2.vtk')\n",
    "\n",
    "print(f\"Number of points in mesh1: {mesh1.numPoints()}\")\n",
    "print(f\"Number of points in mesh2: {mesh2.numPoints()}\")\n",
    "\n",
    "# Ensure point clouds have the same number of particles\n",
    "pc1_remeshed = mesh1.remesh(40000, 0.5) \n",
    "pc2_remeshed = mesh2.remesh(40000, 0.5) \n",
    "\n",
    "# Save remeshed point clouds\n",
    "pc1_remeshed.write('OUTPUT/mesh1_remeshed.vtk')\n",
    "pc2_remeshed.write('OUTPUT/mesh2_remeshed.vtk')\n",
    "\n",
    "# Initialize the particle system with remeshed point cloud file paths\n",
    "particle_system = sw.ParticleSystem(['OUTPUT/mesh1_remeshed.vtk', 'OUTPUT/mesh2_remeshed.vtk'])\n",
    "\n",
    "# Add the point clouds to the particle system\n",
    "particle_system.addShape('OUTPUT/mesh1_resampled.vtk')\n",
    "particle_system.addShape('OUTPUT/mesh2_resampled.vtk')\n",
    "\n",
    "# Optimize the particle system using entropy minimization\n",
    "optimizer = sw.Optimizer()\n",
    "optimizer.setParticleSystem(particle_system)\n",
    "optimizer.run()\n",
    "\n",
    "# Extract particle systems for each mesh\n",
    "particles_mesh1 = particle_system.getParticlesForShape(0)\n",
    "particles_mesh2 = particle_system.getParticlesForShape(1)\n",
    "\n",
    "# Save the optimized particle systems\n",
    "particles_mesh1.writeCSV('particles_mesh1.csv')\n",
    "particles_mesh2.writeCSV('particles_mesh2.csv')\n"
   ]
  }
 ],
 "metadata": {
  "kernelspec": {
   "display_name": "shapeworks",
   "language": "python",
   "name": "python3"
  },
  "language_info": {
   "codemirror_mode": {
    "name": "ipython",
    "version": 3
   },
   "file_extension": ".py",
   "mimetype": "text/x-python",
   "name": "python",
   "nbconvert_exporter": "python",
   "pygments_lexer": "ipython3",
   "version": "3.9.13"
  }
 },
 "nbformat": 4,
 "nbformat_minor": 2
}
