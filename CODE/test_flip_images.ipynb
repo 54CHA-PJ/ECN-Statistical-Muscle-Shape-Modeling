{
 "cells": [
  {
   "cell_type": "code",
   "execution_count": 1,
   "metadata": {},
   "outputs": [
    {
     "name": "stdout",
     "output_type": "stream",
     "text": [
      "Jupyter environment detected. Enabling Open3D WebVisualizer.\n",
      "[Open3D INFO] WebRTC GUI backend enabled.\n",
      "[Open3D INFO] WebRTCWindowSystem: HTTP handshake server disabled.\n"
     ]
    }
   ],
   "source": [
    "import shapeworks as sw\n",
    "import glob\n",
    "import pyvista as pv\n",
    "import vtk\n",
    "import numpy as np\n",
    "import pyvista as pv\n",
    "import shapeworks as sw\n",
    "import os"
   ]
  },
  {
   "cell_type": "code",
   "execution_count": 2,
   "metadata": {},
   "outputs": [],
   "source": [
    "DATASET_PATH = \"DATA/RF_FULGUR\"\n",
    "OUTPUT_PATH = DATASET_PATH + \"mirrored\""
   ]
  },
  {
   "cell_type": "code",
   "execution_count": 3,
   "metadata": {},
   "outputs": [
    {
     "name": "stdout",
     "output_type": "stream",
     "text": [
      "Processing 5 images:\n",
      "   DATA/RF_FULGUR\\FULGUR_002_283592_left_label_4.nii.gz\n",
      "   DATA/RF_FULGUR\\FULGUR_028_61082_left_label_4.nii.gz\n",
      "   DATA/RF_FULGUR\\FULGUR_029_15058_left_label_4.nii.gz\n",
      "   DATA/RF_FULGUR\\FULGUR_059_236946_left_label_4.nii.gz\n",
      "   DATA/RF_FULGUR\\FULGUR_076_46061_left_label_4.nii.gz\n"
     ]
    }
   ],
   "source": [
    "all_images = glob.glob(DATASET_PATH + \"/*.nii.gz\")\n",
    "images_to_process = []\n",
    "for image_path in all_images:\n",
    "    if image_path.__contains__(\"left\"):\n",
    "        images_to_process.append(image_path)\n",
    "        \n",
    "print(\"Processing\", len(images_to_process), \"images:\")\n",
    "for image_path in images_to_process:\n",
    "    print(f'   {image_path}')\n",
    "    \n",
    "ref_image_path = images_to_process[0]\n",
    "ref_image_right_path = all_images[1]"
   ]
  },
  {
   "cell_type": "code",
   "execution_count": 4,
   "metadata": {},
   "outputs": [],
   "source": [
    "# Function to mirror the image along the x-axis\n",
    "\"\"\" \n",
    "def mirror_image(image):\n",
    "    image_data = image.toArray()\n",
    "    mirrored_data = np.flip(image_data, axis=1)  # Flip along x-axis\n",
    "    return sw.Image(mirrored_data.astype(np.float32))\n",
    "\"\"\"\n",
    "\n",
    "def mirror_image(image):\n",
    "    # Get the image data as a numpy array\n",
    "    image_data = image.toArray()\n",
    "    \n",
    "    # Flip the data along the x-axis (axis=0)\n",
    "    mirrored_data = np.flip(image_data, axis=2)\n",
    "    \n",
    "    # Create a new Shapeworks Image from the flipped data\n",
    "    mirrored_image = sw.Image(mirrored_data.astype(np.float32))\n",
    "    \n",
    "    # Copy the spacing from the original image\n",
    "    mirrored_image.setSpacing(image.spacing())\n",
    "    \n",
    "    # Adjust the origin to account for the flip\n",
    "    original_origin = image.origin()\n",
    "    spacing = image.spacing()\n",
    "    dims = image.dims()\n",
    "    \n",
    "    # Calculate the new origin\n",
    "    new_origin = list(original_origin)\n",
    "    new_origin[0] = original_origin[0] + (dims[0] - 1) * spacing[0]\n",
    "    mirrored_image.setOrigin(new_origin)\n",
    "    \n",
    "    return mirrored_image\n",
    "\n",
    "\n",
    "# Function to convert Shapeworks image to mesh\n",
    "def image_to_mesh(image):\n",
    "    # Convert image to numpy array\n",
    "    image_data = image.toArray()\n",
    "    # Calculate isovalue\n",
    "    min_val = image_data.min()\n",
    "    max_val = image_data.max()\n",
    "    isovalue = (max_val + min_val) / 2.0\n",
    "    # Generate the mesh\n",
    "    return sw.sw2vtkMesh(image.toMesh(isovalue=isovalue))"
   ]
  },
  {
   "cell_type": "code",
   "execution_count": 5,
   "metadata": {},
   "outputs": [],
   "source": [
    "image_left_path = DATASET_PATH + '/FULGUR_002_283592_left_label_4.nii.gz'\n",
    "image_right_path = DATASET_PATH + '/FULGUR_002_283592_right_label_4.nii.gz'"
   ]
  },
  {
   "cell_type": "code",
   "execution_count": 6,
   "metadata": {},
   "outputs": [],
   "source": [
    "# Load images\n",
    "left_image = sw.Image(image_left_path)\n",
    "right_image = sw.Image(image_right_path)\n",
    "\n",
    "# Convert images to meshes\n",
    "left_mesh = image_to_mesh(left_image)\n",
    "right_mesh = image_to_mesh(right_image)\n",
    "\n",
    "# Wrap meshes with PyVista\n",
    "pv_left_mesh = pv.wrap(left_mesh)\n",
    "pv_right_mesh = pv.wrap(right_mesh)"
   ]
  },
  {
   "cell_type": "code",
   "execution_count": 7,
   "metadata": {},
   "outputs": [],
   "source": [
    "# Mirror the left image\n",
    "mirrored_left_image = mirror_image(left_image)\n",
    "\n",
    "# Convert to a mesh\n",
    "mirrored_mesh = image_to_mesh(mirrored_left_image)\n",
    "\n",
    "# Wrap the mesh\n",
    "pv_mirrored_mesh = pv.wrap(mirrored_mesh)"
   ]
  },
  {
   "cell_type": "code",
   "execution_count": 8,
   "metadata": {},
   "outputs": [],
   "source": [
    "# Function to plot a single mesh in an external PyVista window\n",
    "def plot_mesh(mesh, title, color):\n",
    "    plotter = pv.Plotter(title=title, notebook=False)\n",
    "    plotter.add_mesh(mesh, color=color, show_edges=False)\n",
    "    plotter.add_axes()\n",
    "    plotter.add_bounding_box()\n",
    "    plotter.show()\n",
    "    \n",
    "# Plot Left Original and Mirrored Left together in one external window\n",
    "def plot_two_meshes(mesh1, mesh2, title, color1, color2):\n",
    "    plotter = pv.Plotter(title=title, notebook=False)\n",
    "    plotter.add_mesh(mesh1, color=color1, show_edges=False, label=\"Left Original\")\n",
    "    plotter.add_mesh(mesh2, color=color2, show_edges=False, label=\"Mirrored Left\")\n",
    "    plotter.add_axes()\n",
    "    plotter.add_bounding_box()\n",
    "    plotter.add_legend()\n",
    "    plotter.show()\n",
    "\n",
    "# Plot each mesh separately\n",
    "#plot_mesh(pv_left_mesh, \"Left Original Muscle\", \"blue\")\n",
    "#plot_mesh(pv_mirrored_mesh, \"Mirrored Left Muscle\", \"green\")\n",
    "#plot_mesh(pv_right_mesh, \"Right Original Muscle\", \"red\")\n",
    "\n",
    "plot_two_meshes(pv_left_mesh, pv_mirrored_mesh, \"Left Original and Mirrored Left\", \"red\", \"green\")"
   ]
  },
  {
   "cell_type": "code",
   "execution_count": 9,
   "metadata": {},
   "outputs": [],
   "source": [
    "plot_two_meshes(pv_right_mesh, pv_mirrored_mesh, \"Mirrored Left and Right\", \"red\", \"green\")"
   ]
  }
 ],
 "metadata": {
  "kernelspec": {
   "display_name": "shapeworks",
   "language": "python",
   "name": "python3"
  },
  "language_info": {
   "codemirror_mode": {
    "name": "ipython",
    "version": 3
   },
   "file_extension": ".py",
   "mimetype": "text/x-python",
   "name": "python",
   "nbconvert_exporter": "python",
   "pygments_lexer": "ipython3",
   "version": "3.9.13"
  }
 },
 "nbformat": 4,
 "nbformat_minor": 2
}
